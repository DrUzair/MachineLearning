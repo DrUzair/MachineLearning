{
  "nbformat": 4,
  "nbformat_minor": 0,
  "metadata": {
    "colab": {
      "provenance": [],
      "toc_visible": true
    },
    "kernelspec": {
      "name": "python3",
      "display_name": "Python 3"
    },
    "language_info": {
      "name": "python"
    },
    "accelerator": "TPU"
  },
  "cells": [
    {
      "cell_type": "markdown",
      "source": [
        "# **Hands-on Tutorial: Convolutional Neural Network (CNN) for MNIST Handwritten Digit Recognition with PyTorch**\n",
        "\n",
        "**Uzair Ahmad**"
      ],
      "metadata": {
        "id": "gn1mbMewMcO1"
      }
    },
    {
      "cell_type": "markdown",
      "source": [
        "---\n",
        "\n",
        "Welcome to our hands-on tutorial on building a Convolutional Neural Network (CNN) for MNIST handwritten digit recognition using PyTorch! In this tutorial, you'll step into the exciting world of computer vision and learn how to train a neural network to recognize handwritten digits with high accuracy.\n",
        "\n",
        "**What to Expect:**\n",
        "- **Dataset Preparation:** We'll guide you through downloading and preprocessing the MNIST dataset—a classic dataset in the field of machine learning, containing grayscale images of handwritten digits (0-9).\n",
        "\n",
        "- **Building the CNN Architecture:** You'll get hands-on experience creating a simple yet effective CNN architecture using PyTorch. We'll explore key concepts like convolutional layers, pooling, and fully connected layers.\n",
        "\n",
        "- **Training the Model:** Dive into the training process as we walk you through the steps of initializing the CNN, defining a loss function, choosing an optimizer, and iterating through epochs to train the model.\n",
        "\n",
        "- **Evaluation and Visualization:** Learn how to evaluate the model's performance on a separate test dataset and visualize the results using a confusion matrix.\n",
        "\n",
        "- **Model Saving and Loading:** Discover how to save your trained model to use it later for inference or further training. We'll guide you through the process of loading a saved model.\n",
        "\n",
        "Throughout the tutorial, insightful explanations and comments have been added to help you grasp the underlying concepts. Whether you're a beginner exploring neural networks or an enthusiast looking to sharpen your skills, this tutorial aims to provide a solid foundation in CNNs and their application to image classification tasks.\n",
        "\n",
        "Let's embark on this journey together and bring your neural network to life for handwritten digit recognition!"
      ],
      "metadata": {
        "id": "AExgSRn7MXxd"
      }
    },
    {
      "cell_type": "code",
      "source": [
        "# Import necessary libraries\n",
        "import torch\n",
        "import torch.nn.functional as F\n",
        "import torch.nn as nn\n",
        "import torch.optim as optim\n",
        "import torchvision\n",
        "import torchvision.transforms as transforms\n",
        "from torch.utils.data import DataLoader\n",
        "from torchvision.datasets import MNIST"
      ],
      "metadata": {
        "id": "Du41CnC1MoVB"
      },
      "execution_count": 3,
      "outputs": []
    },
    {
      "cell_type": "markdown",
      "source": [
        "# The `CNN` class"
      ],
      "metadata": {
        "id": "NgROABSODIfQ"
      }
    },
    {
      "cell_type": "code",
      "execution_count": 4,
      "metadata": {
        "id": "VJIAaP47CBjC"
      },
      "outputs": [],
      "source": [
        "# Define the Convolutional Neural Network (CNN) architecture\n",
        "class CNN(nn.Module):\n",
        "    def __init__(self):\n",
        "        super(CNN, self).__init__()\n",
        "        self.conv1 = nn.Conv2d(1, 32, kernel_size=3, padding=1)\n",
        "        self.conv2 = nn.Conv2d(32, 64, kernel_size=3, padding=1)\n",
        "        self.pool = nn.MaxPool2d(2, 2)\n",
        "        self.fc1 = nn.Linear(64 * 7 * 7, 128)\n",
        "        self.fc2 = nn.Linear(128, 10)\n",
        "\n",
        "    def forward(self, x):\n",
        "        x = self.pool(F.relu(self.conv1(x)))\n",
        "        x = self.pool(F.relu(self.conv2(x)))\n",
        "        x = x.view(-1, 64 * 7 * 7) # flatten the X\n",
        "        x = F.relu(self.fc1(x))\n",
        "        x = self.fc2(x)\n",
        "        x = F.softmax(x, dim=1)\n",
        "        return x"
      ]
    },
    {
      "cell_type": "markdown",
      "source": [
        "The `CNN` class is a custom Convolutional Neural Network (CNN) architecture defined using the PyTorch library. Let's break down each part of the class:\n",
        "\n",
        "```python\n",
        "class CNN(nn.Module):\n",
        "```\n",
        "\n",
        "This line defines a class named `CNN` that inherits from the `nn.Module` class, which is a base class for all neural network modules in PyTorch. This inheritance allows our `CNN` class to leverage functionalities provided by the `nn.Module` class.\n",
        "\n",
        "```python\n",
        "    def __init__(self):\n",
        "        super(CNN, self).__init__()\n",
        "```\n",
        "\n",
        "The `__init__` method is the constructor of the class. It is called when an object of the class is created. In this method:\n",
        "- `super(CNN, self).__init__()` calls the constructor of the parent class (`nn.Module`), initializing the necessary components.\n",
        "\n",
        "```python\n",
        "        self.conv1 = nn.Conv2d(1, 32, kernel_size=3, padding=1)\n",
        "        self.conv2 = nn.Conv2d(32, 64, kernel_size=3, padding=1)\n",
        "        self.pool = nn.MaxPool2d(2, 2)\n",
        "        self.fc1 = nn.Linear(64 * 7 * 7, 128)\n",
        "        self.fc2 = nn.Linear(128, 10)\n",
        "```\n",
        "\n",
        "Here, we define the layers of our CNN:\n",
        "- `nn.Conv2d`: Convolutional layer with specified input and output channels, kernel size, and padding.\n",
        "- `nn.MaxPool2d`: Max pooling layer with a specified kernel size and stride.\n",
        "- `nn.Linear`: Fully connected (linear) layer with specified input and output sizes.\n",
        "\n",
        "These layers make up the convolutional and fully connected components of the neural network.\n",
        "\n",
        "```python\n",
        "    def forward(self, x):\n",
        "```\n",
        "\n",
        "The `forward` method defines the forward pass of the network. It specifies how input `x` should be processed through the network layers to produce the output.\n",
        "\n",
        "```python\n",
        "        x = self.pool(F.relu(self.conv1(x)))\n",
        "        x = self.pool(F.relu(self.conv2(x)))\n",
        "```\n",
        "\n",
        "In the forward pass, the input `x` undergoes convolutional operations (`self.conv1` and `self.conv2`), followed by a ReLU activation function (`F.relu`), and max pooling (`self.pool`). These operations are repeated for two convolutional layers.\n",
        "\n",
        "```python\n",
        "        x = x.view(-1, 64 * 7 * 7)\n",
        "```\n",
        "\n",
        "After convolutional layers, the output is flattened using `view` to be compatible with the fully connected layers.\n",
        "\n",
        "```python\n",
        "        x = F.relu(self.fc1(x))\n",
        "        x = self.fc2(x)\n",
        "```\n",
        "\n",
        "The flattened output is then passed through two fully connected layers with ReLU activation in between.\n",
        "\n",
        "```python\n",
        "        return x\n",
        "```\n",
        "\n",
        "The final output of the forward pass is returned.\n",
        "\n",
        "This `CNN` class represents a simple convolutional neural network architecture designed for MNIST handwritten digit recognition. It consists of convolutional layers, max pooling layers, and fully connected layers to learn hierarchical features from the input images."
      ],
      "metadata": {
        "id": "zlfkBdfPC-oP"
      }
    },
    {
      "cell_type": "markdown",
      "source": [
        "# Load and Prepare data"
      ],
      "metadata": {
        "id": "kayMjTgIGq3T"
      }
    },
    {
      "cell_type": "code",
      "source": [
        "# Set device (CPU or GPU)\n",
        "device = torch.device(\"cuda:0\" if torch.cuda.is_available() else \"cpu\")\n",
        "\n",
        "# Download and preprocess the MNIST dataset\n",
        "transform = transforms.Compose([transforms.ToTensor(), transforms.Normalize((0.5,), (0.5,))])\n",
        "\n",
        "train_dataset = MNIST(root='./data', train=True, download=True, transform=transform)\n",
        "test_dataset = MNIST(root='./data', train=False, download=True, transform=transform)\n",
        "\n",
        "train_loader = DataLoader(dataset=train_dataset, batch_size=32, shuffle=True)\n",
        "test_loader = DataLoader(dataset=test_dataset, batch_size=32, shuffle=False)"
      ],
      "metadata": {
        "colab": {
          "base_uri": "https://localhost:8080/"
        },
        "id": "Lfyios0ZGuLM",
        "outputId": "bd82e3bd-c618-4454-e808-0dd153d6de90"
      },
      "execution_count": 5,
      "outputs": [
        {
          "output_type": "stream",
          "name": "stdout",
          "text": [
            "Downloading http://yann.lecun.com/exdb/mnist/train-images-idx3-ubyte.gz\n",
            "Downloading http://yann.lecun.com/exdb/mnist/train-images-idx3-ubyte.gz to ./data/MNIST/raw/train-images-idx3-ubyte.gz\n"
          ]
        },
        {
          "output_type": "stream",
          "name": "stderr",
          "text": [
            "100%|██████████| 9912422/9912422 [00:00<00:00, 72975051.55it/s]\n"
          ]
        },
        {
          "output_type": "stream",
          "name": "stdout",
          "text": [
            "Extracting ./data/MNIST/raw/train-images-idx3-ubyte.gz to ./data/MNIST/raw\n",
            "\n",
            "Downloading http://yann.lecun.com/exdb/mnist/train-labels-idx1-ubyte.gz\n",
            "Downloading http://yann.lecun.com/exdb/mnist/train-labels-idx1-ubyte.gz to ./data/MNIST/raw/train-labels-idx1-ubyte.gz\n"
          ]
        },
        {
          "output_type": "stream",
          "name": "stderr",
          "text": [
            "100%|██████████| 28881/28881 [00:00<00:00, 62408909.75it/s]"
          ]
        },
        {
          "output_type": "stream",
          "name": "stdout",
          "text": [
            "Extracting ./data/MNIST/raw/train-labels-idx1-ubyte.gz to ./data/MNIST/raw\n",
            "\n",
            "Downloading http://yann.lecun.com/exdb/mnist/t10k-images-idx3-ubyte.gz\n",
            "Downloading http://yann.lecun.com/exdb/mnist/t10k-images-idx3-ubyte.gz to ./data/MNIST/raw/t10k-images-idx3-ubyte.gz\n"
          ]
        },
        {
          "output_type": "stream",
          "name": "stderr",
          "text": [
            "\n",
            "100%|██████████| 1648877/1648877 [00:00<00:00, 28312835.53it/s]\n"
          ]
        },
        {
          "output_type": "stream",
          "name": "stdout",
          "text": [
            "Extracting ./data/MNIST/raw/t10k-images-idx3-ubyte.gz to ./data/MNIST/raw\n",
            "\n",
            "Downloading http://yann.lecun.com/exdb/mnist/t10k-labels-idx1-ubyte.gz\n",
            "Downloading http://yann.lecun.com/exdb/mnist/t10k-labels-idx1-ubyte.gz to ./data/MNIST/raw/t10k-labels-idx1-ubyte.gz\n"
          ]
        },
        {
          "output_type": "stream",
          "name": "stderr",
          "text": [
            "100%|██████████| 4542/4542 [00:00<00:00, 11616176.08it/s]"
          ]
        },
        {
          "output_type": "stream",
          "name": "stdout",
          "text": [
            "Extracting ./data/MNIST/raw/t10k-labels-idx1-ubyte.gz to ./data/MNIST/raw\n",
            "\n"
          ]
        },
        {
          "output_type": "stream",
          "name": "stderr",
          "text": [
            "\n"
          ]
        }
      ]
    },
    {
      "cell_type": "markdown",
      "source": [
        "**Setting the Device (CPU or GPU)**:\n",
        "\n",
        "```python\n",
        "device = torch.device(\"cuda:0\" if torch.cuda.is_available() else \"cpu\")\n",
        "```\n",
        "\n",
        "This line is responsible for determining the device on which the PyTorch tensors (data structures used in neural networks) will be stored and processed. PyTorch supports both CPU and GPU computations. The line uses a ternary conditional operator (`if-else` shorthand) to check if a GPU (CUDA device) is available using `torch.cuda.is_available()`. If a GPU is available, it sets the `device` to `\"cuda:0\"` (indicating GPU device 0), otherwise, it sets it to `\"cpu\"`.\n",
        "\n",
        "So, this line ensures that your code can run on a GPU if one is available, and falls back to the CPU if not. Using a GPU can significantly speed up training neural networks, especially for large datasets and complex models.\n",
        "\n",
        "** Downloading and Preprocessing the MNIST Dataset**:\n",
        "\n",
        "```python\n",
        "transform = transforms.Compose([transforms.ToTensor(), transforms.Normalize((0.5,), (0.5,))])\n",
        "```\n",
        "\n",
        "Here, `transforms.Compose` is used to chain together a series of image transformations. These transformations are applied to the input images during the dataset loading process. Specifically:\n",
        "\n",
        "- `transforms.ToTensor()`: Converts the image data into PyTorch tensors. Neural networks in PyTorch operate on tensors rather than raw image data.\n",
        "\n",
        "- `transforms.Normalize((0.5,), (0.5,))`: Normalizes the tensor values to have a mean of 0.5 and a standard deviation of 0.5. This normalization step helps the model converge faster during training.\n",
        "\n",
        "In the context of the MNIST dataset, which consists of grayscale images with pixel values ranging from 0 to 255, the normalization brings the values to a range between -1 and 1.\n",
        "\n",
        "These lines ensure that the MNIST dataset is loaded and preprocessed appropriately before being fed into the neural network for training. The combination of these transformations helps in preparing the data for effective learning by the model.\n",
        "\n",
        "The next two lines of code are responsible for preparing the datasets and data loaders for training and testing your Convolutional Neural Network (CNN). Let's break down each line:\n",
        "\n",
        "** 1. Initializing Training and Testing Datasets**:\n",
        "\n",
        "```python\n",
        "train_dataset = MNIST(root='./data', train=True, download=True, transform=transform)\n",
        "test_dataset = MNIST(root='./data', train=False, download=True, transform=transform)\n",
        "```\n",
        "\n",
        "- **`MNIST` Class:** This line uses the `MNIST` class from the torchvision library to create instances of the training and testing datasets.\n",
        "\n",
        "- **`root='./data'`:** This specifies the directory where the datasets will be stored. If the datasets are not found in this directory, they will be downloaded.\n",
        "\n",
        "- **`train=True` and `train=False`:** These parameters indicate whether the datasets being created are for training (`train=True`) or testing (`train=False`).\n",
        "\n",
        "- **`download=True`:** This parameter ensures that the datasets are downloaded if they are not already present in the specified root directory.\n",
        "\n",
        "- **`transform=transform`:** The `transform` parameter is used to apply a series of image transformations to the datasets. In this case, it includes converting the images to tensors (`transforms.ToTensor()`) and normalizing the pixel values (`transforms.Normalize()`).\n",
        "\n",
        "**Initializing Data Loaders**:\n",
        "\n",
        "```python\n",
        "train_loader = DataLoader(dataset=train_dataset, batch_size=32, shuffle=True)\n",
        "test_loader = DataLoader(dataset=test_dataset, batch_size=32, shuffle=False)\n",
        "```\n",
        "\n",
        "- **`DataLoader` Class:** This line uses the `DataLoader` class from PyTorch to create data loaders for the training and testing datasets. Data loaders are used to efficiently load batches of data during training.\n",
        "\n",
        "- **`dataset=train_dataset` and `dataset=test_dataset`:** These parameters specify the datasets to be used by the respective data loaders.\n",
        "\n",
        "- **`batch_size=32`:** This parameter determines the number of samples in each mini-batch. A mini-batch is a subset of the entire dataset used for updating the model's parameters during training.\n",
        "\n",
        "- **`shuffle=True` and `shuffle=False`:** These parameters control whether the data should be shuffled before each epoch. Shuffling the data ensures that the model sees a different order of samples in each epoch during training, preventing it from learning the order of the data.\n",
        "\n",
        "In summary, these lines set up the MNIST datasets for training and testing, and then create data loaders to efficiently load batches of data during the training and testing phases of your CNN. The `transform` parameter ensures that the data is preprocessed appropriately before being fed into the network."
      ],
      "metadata": {
        "id": "ugvjlbNNGwv5"
      }
    },
    {
      "cell_type": "markdown",
      "source": [
        "# Initialize and train the model"
      ],
      "metadata": {
        "id": "9ZYYkU44G7cb"
      }
    },
    {
      "cell_type": "code",
      "source": [
        "# Initialize the CNN, loss function, and optimizer\n",
        "model = CNN().to(device)\n",
        "criterion = nn.CrossEntropyLoss()\n",
        "optimizer = optim.Adam(model.parameters(), lr=0.001)\n",
        "\n",
        "# Training the model\n",
        "num_epochs = 10\n",
        "\n",
        "for epoch in range(num_epochs):\n",
        "    model.train()\n",
        "    running_loss = 0.0\n",
        "\n",
        "    for images, labels in train_loader:\n",
        "        images, labels = images.to(device), labels.to(device)\n",
        "\n",
        "        optimizer.zero_grad()\n",
        "\n",
        "        outputs = model(images)\n",
        "        loss = criterion(outputs, labels)\n",
        "        loss.backward()\n",
        "        optimizer.step()\n",
        "\n",
        "        running_loss += loss.item()\n",
        "\n",
        "    print(f\"Epoch {epoch+1}/{num_epochs}, Loss: {running_loss/len(train_loader)}\")"
      ],
      "metadata": {
        "colab": {
          "base_uri": "https://localhost:8080/"
        },
        "id": "sVMPxz91G91Y",
        "outputId": "cc65e33d-a1da-4107-dce4-371d84b0a39d"
      },
      "execution_count": 6,
      "outputs": [
        {
          "output_type": "stream",
          "name": "stdout",
          "text": [
            "Epoch 1/10, Loss: 1.6140311853408813\n",
            "Epoch 2/10, Loss: 1.4824264051437377\n",
            "Epoch 3/10, Loss: 1.4792095087051391\n",
            "Epoch 4/10, Loss: 1.4759762804667156\n",
            "Epoch 5/10, Loss: 1.47386194190979\n",
            "Epoch 6/10, Loss: 1.472579007657369\n",
            "Epoch 7/10, Loss: 1.4721262315114338\n",
            "Epoch 8/10, Loss: 1.47193262907664\n",
            "Epoch 9/10, Loss: 1.4715393255869547\n",
            "Epoch 10/10, Loss: 1.4707341058095296\n"
          ]
        }
      ]
    },
    {
      "cell_type": "markdown",
      "source": [
        "Let's break down the initialization and training of the model:\n",
        "\n",
        "**Initializing the CNN, Loss Function, and Optimizer:**\n",
        "\n",
        "```python\n",
        "model = CNN().to(device)\n",
        "criterion = nn.CrossEntropyLoss()\n",
        "optimizer = optim.Adam(model.parameters(), lr=0.001)\n",
        "```\n",
        "\n",
        "1. **Model Initialization (`model = CNN().to(device)`)**\n",
        "   - This line creates an instance of your CNN model (`CNN()`) and sends it to the specified device (`device`). If a GPU is available, the model will be placed on the GPU; otherwise, it will be placed on the CPU.\n",
        "\n",
        "2. **Loss Function (`criterion = nn.CrossEntropyLoss()`)**\n",
        "   - The choice of a loss function is critical for training a neural network. In this case, `nn.CrossEntropyLoss()` is used. It is commonly used for classification problems and is suitable for multi-class classification tasks like MNIST digit recognition.\n",
        "\n",
        "3. **Optimizer (`optimizer = optim.Adam(model.parameters(), lr=0.001)`)**\n",
        "   - The optimizer is responsible for updating the model's parameters during training. Here, the Adam optimizer (`optim.Adam`) is used. It is an adaptive optimization algorithm that adjusts the learning rates of each parameter individually. `model.parameters()` provides the parameters to be optimized, and `lr=0.001` sets the learning rate.\n",
        "\n",
        "**Training the Model**:\n",
        "\n",
        "```python\n",
        "num_epochs = 10\n",
        "\n",
        "for epoch in range(num_epochs):\n",
        "    model.train()\n",
        "    running_loss = 0.0\n",
        "\n",
        "    for images, labels in train_loader:\n",
        "        images, labels = images.to(device), labels.to(device)\n",
        "\n",
        "        optimizer.zero_grad()\n",
        "\n",
        "        outputs = model(images)\n",
        "        loss = criterion(outputs, labels)\n",
        "        loss.backward()\n",
        "        optimizer.step()\n",
        "\n",
        "        running_loss += loss.item()\n",
        "\n",
        "    print(f\"Epoch {epoch+1}/{num_epochs}, Loss: {running_loss/len(train_loader)}\")\n",
        "```\n",
        "\n",
        "1. **Epoch Loop (`for epoch in range(num_epochs)`)**\n",
        "   - This loop iterates over the dataset for a specified number of epochs (`num_epochs`). An epoch is a complete pass through the entire training dataset.\n",
        "\n",
        "2. **Model Training (`model.train()`)**\n",
        "   - `model.train()` sets the model to training mode. This is necessary because certain layers, like dropout, behave differently during training and testing.\n",
        "\n",
        "3. **Mini-Batch Loop (`for images, labels in train_loader`)**\n",
        "   - This loop processes the dataset in mini-batches using the `train_loader`. Mini-batches are smaller subsets of the dataset, making it computationally feasible to train on large datasets.\n",
        "\n",
        "4. **Zeroing Gradients (`optimizer.zero_grad()`)**\n",
        "   - Before computing gradients, the gradients from the previous iteration need to be zeroed. This is because PyTorch accumulates gradients by default.\n",
        "\n",
        "5. **Forward Pass (`outputs = model(images)`)**\n",
        "   - The forward pass involves passing the input images through the model to obtain predictions (`outputs`).\n",
        "\n",
        "6. **Compute Loss (`loss = criterion(outputs, labels)`)**\n",
        "   - The loss is calculated by comparing the model's predictions (`outputs`) with the actual labels (`labels`) using the specified loss function (`criterion`).\n",
        "\n",
        "7. **Backward Pass (`loss.backward()`)**\n",
        "   - Gradients are computed with respect to the loss using backpropagation. This step calculates how much each model parameter contributed to the error.\n",
        "\n",
        "8. **Optimization Step (`optimizer.step()`)**\n",
        "   - The optimizer updates the model's parameters based on the computed gradients.\n",
        "\n",
        "9. **Tracking Running Loss (`running_loss += loss.item()`)**\n",
        "   - The running loss is accumulated to monitor the training progress.\n",
        "\n",
        "10. **Print Epoch Information (`print(f\"Epoch {epoch+1}/{num_epochs}, Loss: {running_loss/len(train_loader)}\")`)**\n",
        "    - At the end of each epoch, the average training loss is printed to monitor the overall training performance.\n",
        "\n",
        "This loop repeats for the specified number of epochs, updating the model's parameters to minimize the training loss and improve its ability to make accurate predictions."
      ],
      "metadata": {
        "id": "XzP_5oRmHOCm"
      }
    },
    {
      "cell_type": "markdown",
      "source": [
        "# Save the trained model"
      ],
      "metadata": {
        "id": "RbNXplmHJAJY"
      }
    },
    {
      "cell_type": "code",
      "source": [
        "# Save the trained model\n",
        "torch.save(model.state_dict(), 'mnist_cnn_model.pth')"
      ],
      "metadata": {
        "id": "oSTJHxYHJCBy"
      },
      "execution_count": 7,
      "outputs": []
    },
    {
      "cell_type": "markdown",
      "source": [
        "# Load and Evaluate"
      ],
      "metadata": {
        "id": "sDquYgMtFLDt"
      }
    },
    {
      "cell_type": "code",
      "source": [
        "loaded_model = CNN().to(device)\n",
        "loaded_model.load_state_dict(torch.load('mnist_cnn_model.pth'))\n",
        "loaded_model.eval()  # Set the model to evaluation mode"
      ],
      "metadata": {
        "colab": {
          "base_uri": "https://localhost:8080/"
        },
        "id": "lapdfouOJ4IS",
        "outputId": "3811e730-678f-4b14-f547-467ce1461a5e"
      },
      "execution_count": 8,
      "outputs": [
        {
          "output_type": "execute_result",
          "data": {
            "text/plain": [
              "CNN(\n",
              "  (conv1): Conv2d(1, 32, kernel_size=(3, 3), stride=(1, 1), padding=(1, 1))\n",
              "  (conv2): Conv2d(32, 64, kernel_size=(3, 3), stride=(1, 1), padding=(1, 1))\n",
              "  (pool): MaxPool2d(kernel_size=2, stride=2, padding=0, dilation=1, ceil_mode=False)\n",
              "  (fc1): Linear(in_features=3136, out_features=128, bias=True)\n",
              "  (fc2): Linear(in_features=128, out_features=10, bias=True)\n",
              ")"
            ]
          },
          "metadata": {},
          "execution_count": 8
        }
      ]
    },
    {
      "cell_type": "code",
      "source": [
        "from sklearn.metrics import confusion_matrix, ConfusionMatrixDisplay\n",
        "import matplotlib.pyplot as plt\n",
        "# Evaluate the model\n",
        "loaded_model.eval()\n",
        "correct = 0\n",
        "total = 0\n",
        "all_preds = []\n",
        "all_labels = []\n",
        "\n",
        "with torch.no_grad():\n",
        "    for images, labels in test_loader:\n",
        "        images, labels = images.to(device), labels.to(device)\n",
        "\n",
        "        outputs = loaded_model(images)\n",
        "        _, predicted = torch.max(outputs.data, 1)\n",
        "\n",
        "        total += labels.size(0)\n",
        "        correct += (predicted == labels).sum().item()\n",
        "\n",
        "        all_preds.extend(predicted.cpu().numpy())\n",
        "        all_labels.extend(labels.cpu().numpy())\n",
        "\n",
        "accuracy = correct / total\n",
        "print(f\"Accuracy on the test set: {accuracy*100}%\")\n",
        "\n",
        "# Compute and display the confusion matrix\n",
        "cm = confusion_matrix(all_labels, all_preds, labels=range(10))\n",
        "disp = ConfusionMatrixDisplay(confusion_matrix=cm, display_labels=range(10))\n",
        "disp.plot(cmap='viridis', values_format='d')\n",
        "plt.show()\n"
      ],
      "metadata": {
        "colab": {
          "base_uri": "https://localhost:8080/",
          "height": 467
        },
        "id": "fiT86Y-FFM4R",
        "outputId": "de8241fe-cc5c-402d-b4f5-b3524cb09978"
      },
      "execution_count": 10,
      "outputs": [
        {
          "output_type": "stream",
          "name": "stdout",
          "text": [
            "Accuracy on the test set: 98.75%\n"
          ]
        },
        {
          "output_type": "display_data",
          "data": {
            "text/plain": [
              "<Figure size 640x480 with 2 Axes>"
            ],
            "image/png": "[encoded data removed]"
          },
          "metadata": {}
        }
      ]
    },
    {
      "cell_type": "markdown",
      "source": [
        "# Full code"
      ],
      "metadata": {
        "id": "58S8bDdmMwBX"
      }
    },
    {
      "cell_type": "code",
      "source": [
        "\n",
        "# Import necessary libraries\n",
        "import torch\n",
        "import torch.nn.functional as F\n",
        "import torch.nn as nn\n",
        "import torch.optim as optim\n",
        "import torchvision\n",
        "import torchvision.transforms as transforms\n",
        "from torch.utils.data import DataLoader\n",
        "from torchvision.datasets import MNIST\n",
        "\n",
        "# Define the Convolutional Neural Network (CNN) architecture\n",
        "class CNN(nn.Module):\n",
        "    def __init__(self):\n",
        "        super(CNN, self).__init__()\n",
        "        self.conv1 = nn.Conv2d(1, 32, kernel_size=3, padding=1)\n",
        "        self.conv2 = nn.Conv2d(32, 64, kernel_size=3, padding=1)\n",
        "        self.pool = nn.MaxPool2d(2, 2)\n",
        "        self.fc1 = nn.Linear(64 * 7 * 7, 128)\n",
        "        self.fc2 = nn.Linear(128, 10)\n",
        "\n",
        "    def forward(self, x):\n",
        "        x = self.pool(F.relu(self.conv1(x)))\n",
        "        x = self.pool(F.relu(self.conv2(x)))\n",
        "        x = x.view(-1, 64 * 7 * 7) # flatten the X\n",
        "        x = F.relu(self.fc1(x))\n",
        "        x = self.fc2(x)\n",
        "        x = F.softmax(x, dim=1)\n",
        "        return x\n",
        "\n",
        "# Set device (CPU or GPU)\n",
        "device = torch.device(\"cuda:0\" if torch.cuda.is_available() else \"cpu\")\n",
        "\n",
        "# Download and preprocess the MNIST dataset\n",
        "transform = transforms.Compose([transforms.ToTensor(), transforms.Normalize((0.5,), (0.5,))])\n",
        "\n",
        "train_dataset = MNIST(root='./data', train=True, download=True, transform=transform)\n",
        "test_dataset = MNIST(root='./data', train=False, download=True, transform=transform)\n",
        "\n",
        "train_loader = DataLoader(dataset=train_dataset, batch_size=32, shuffle=True)\n",
        "test_loader = DataLoader(dataset=test_dataset, batch_size=32, shuffle=False)\n",
        "\n",
        "# Initialize the CNN, loss function, and optimizer\n",
        "model = CNN().to(device)\n",
        "criterion = nn.CrossEntropyLoss()\n",
        "optimizer = optim.Adam(model.parameters(), lr=0.001)\n",
        "\n",
        "# Training the model\n",
        "num_epochs = 2\n",
        "\n",
        "for epoch in range(num_epochs):\n",
        "    model.train()\n",
        "    running_loss = 0.0\n",
        "\n",
        "    for images, labels in train_loader:\n",
        "        images, labels = images.to(device), labels.to(device)\n",
        "\n",
        "        optimizer.zero_grad()\n",
        "\n",
        "        outputs = model(images)\n",
        "        loss = criterion(outputs, labels)\n",
        "        loss.backward()\n",
        "        optimizer.step()\n",
        "\n",
        "        running_loss += loss.item()\n",
        "\n",
        "    print(f\"Epoch {epoch+1}/{num_epochs}, Loss: {running_loss/len(train_loader)}\")"
      ],
      "metadata": {
        "id": "tZary34iMxVa"
      },
      "execution_count": null,
      "outputs": []
    },
    {
      "cell_type": "markdown",
      "source": [
        "# Visualizing a CNN"
      ],
      "metadata": {
        "id": "9MAVNZ1DDag1"
      }
    },
    {
      "cell_type": "markdown",
      "source": [
        "Visualizing a CNN can help you understand the architecture and the flow of information through different layers. PyTorch provides a handy tool called `torchsummary` that can be used to visualize the architecture of your CNN. Additionally, you can use other libraries like `matplotlib` to visualize the filters and feature maps.\n",
        "\n",
        "Here's how you can visualize your CNN using `torchsummary` and `matplotlib`:\n",
        "\n"
      ],
      "metadata": {
        "id": "apcMJ4sLDdls"
      }
    },
    {
      "cell_type": "code",
      "source": [
        "# Install torchsummary and matplotlib if you haven't already\n",
        "# !pip install torchsummary\n",
        "# !pip install matplotlib\n",
        "\n",
        "import torchsummary\n",
        "import matplotlib.pyplot as plt\n",
        "\n",
        "# Create an instance of the CNN\n",
        "model = CNN()\n",
        "\n",
        "# Use torchsummary to display the model architecture\n",
        "torchsummary.summary(model, (1, 28, 28))  # Assumes MNIST image size\n",
        "\n",
        "# Visualize filters in the first convolutional layer\n",
        "conv1_filters = model.conv1.weight.data.cpu().numpy()\n",
        "plt.figure(figsize=(8, 8))\n",
        "for i in range(conv1_filters.shape[0]):\n",
        "    plt.subplot(4, 8, i + 1)\n",
        "    plt.imshow(conv1_filters[i, 0, :, :], cmap='gray')\n",
        "    plt.axis('off')\n",
        "plt.show()"
      ],
      "metadata": {
        "colab": {
          "base_uri": "https://localhost:8080/",
          "height": 921
        },
        "id": "D5BWABobDhS5",
        "outputId": "2ab6dfa5-0d28-400a-f38b-f33df0dbc19e"
      },
      "execution_count": 11,
      "outputs": [
        {
          "output_type": "stream",
          "name": "stdout",
          "text": [
            "----------------------------------------------------------------\n",
            "        Layer (type)               Output Shape         Param #\n",
            "================================================================\n",
            "            Conv2d-1           [-1, 32, 28, 28]             320\n",
            "         MaxPool2d-2           [-1, 32, 14, 14]               0\n",
            "            Conv2d-3           [-1, 64, 14, 14]          18,496\n",
            "         MaxPool2d-4             [-1, 64, 7, 7]               0\n",
            "            Linear-5                  [-1, 128]         401,536\n",
            "            Linear-6                   [-1, 10]           1,290\n",
            "================================================================\n",
            "Total params: 421,642\n",
            "Trainable params: 421,642\n",
            "Non-trainable params: 0\n",
            "----------------------------------------------------------------\n",
            "Input size (MB): 0.00\n",
            "Forward/backward pass size (MB): 0.36\n",
            "Params size (MB): 1.61\n",
            "Estimated Total Size (MB): 1.97\n",
            "----------------------------------------------------------------\n"
          ]
        },
        {
          "output_type": "display_data",
          "data": {
            "text/plain": [
              "<Figure size 800x800 with 32 Axes>"
            ],
            "image/png": "[encoded data removed]"
          },
          "metadata": {}
        }
      ]
    },
    {
      "cell_type": "markdown",
      "source": [
        "\n",
        "\n",
        "In this code:\n",
        "\n",
        "1. Install `torchsummary` and `matplotlib` if you haven't already.\n",
        "2. Create an instance of your CNN (`model = CNN()`).\n",
        "3. Use `torchsummary.summary` to display the model architecture. It shows the layer names, input/output shapes, and the number of parameters.\n",
        "4. Visualize filters in the first convolutional layer using `matplotlib`. This can give you insights into what kind of features the network is learning at the initial layer.\n",
        "\n",
        "Make sure to adjust the input size `(1, 28, 28)` according to your input image size.\n",
        "\n",
        "Feel free to explore other visualization techniques based on your specific requirements and the insights you want to gain from the CNN. Visualizing intermediate feature maps and activation layers during inference is also a common approach for understanding what the network is learning."
      ],
      "metadata": {
        "id": "EcttrK3bDlUz"
      }
    }
  ]
}